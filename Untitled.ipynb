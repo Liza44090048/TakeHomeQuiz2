{
 "cells": [
  {
   "cell_type": "code",
   "execution_count": 1,
   "metadata": {},
   "outputs": [],
   "source": [
    "import pandas as pd"
   ]
  },
  {
   "cell_type": "code",
   "execution_count": 2,
   "metadata": {},
   "outputs": [],
   "source": [
    "import numpy as np"
   ]
  },
  {
   "cell_type": "code",
   "execution_count": 3,
   "metadata": {},
   "outputs": [],
   "source": [
    "import matplotlib.pyplot as plt"
   ]
  },
  {
   "cell_type": "code",
   "execution_count": 133,
   "metadata": {},
   "outputs": [],
   "source": [
    "import seaborn as sns"
   ]
  },
  {
   "cell_type": "code",
   "execution_count": 146,
   "metadata": {},
   "outputs": [],
   "source": [
    "import statsmodels.api as stmod"
   ]
  },
  {
   "cell_type": "code",
   "execution_count": 173,
   "metadata": {},
   "outputs": [],
   "source": [
    "from sklearn.linear_model import LogisticRegression"
   ]
  },
  {
   "cell_type": "code",
   "execution_count": 181,
   "metadata": {},
   "outputs": [],
   "source": [
    "from sklearn.metrics import confusion_matrix"
   ]
  },
  {
   "cell_type": "code",
   "execution_count": 209,
   "metadata": {},
   "outputs": [],
   "source": [
    "from sklearn import metrics"
   ]
  },
  {
   "cell_type": "markdown",
   "metadata": {},
   "source": [
    "# Question 3 - (a) Read the data and name it dataset: In our case file is in the same directory"
   ]
  },
  {
   "cell_type": "code",
   "execution_count": 5,
   "metadata": {},
   "outputs": [],
   "source": [
    "dataset=pd.read_csv('student_results.csv')"
   ]
  },
  {
   "cell_type": "markdown",
   "metadata": {},
   "source": [
    "Here is a top part of dataset (or student_results.csv table)"
   ]
  },
  {
   "cell_type": "code",
   "execution_count": 12,
   "metadata": {
    "scrolled": true
   },
   "outputs": [
    {
     "data": {
      "text/html": [
       "<div>\n",
       "<style scoped>\n",
       "    .dataframe tbody tr th:only-of-type {\n",
       "        vertical-align: middle;\n",
       "    }\n",
       "\n",
       "    .dataframe tbody tr th {\n",
       "        vertical-align: top;\n",
       "    }\n",
       "\n",
       "    .dataframe thead th {\n",
       "        text-align: right;\n",
       "    }\n",
       "</style>\n",
       "<table border=\"1\" class=\"dataframe\">\n",
       "  <thead>\n",
       "    <tr style=\"text-align: right;\">\n",
       "      <th></th>\n",
       "      <th>ID number</th>\n",
       "      <th>Assessment 1</th>\n",
       "      <th>Assessment 2</th>\n",
       "      <th>Online quiz 1</th>\n",
       "      <th>Online quiz 2</th>\n",
       "      <th>Online quiz 3</th>\n",
       "      <th>Online quiz 4</th>\n",
       "      <th>Group assignment 1</th>\n",
       "      <th>Group assignment 2</th>\n",
       "      <th>Assessment 3</th>\n",
       "      <th>Assessment 4</th>\n",
       "      <th>Group assignment 3</th>\n",
       "      <th>Group evaluation</th>\n",
       "      <th>Final exam</th>\n",
       "      <th>Class No</th>\n",
       "      <th>groupname</th>\n",
       "      <th>Student category</th>\n",
       "    </tr>\n",
       "  </thead>\n",
       "  <tbody>\n",
       "    <tr>\n",
       "      <th>0</th>\n",
       "      <td>54002768</td>\n",
       "      <td>17.21</td>\n",
       "      <td>24.19</td>\n",
       "      <td>0.0</td>\n",
       "      <td>0.00</td>\n",
       "      <td>15.00</td>\n",
       "      <td>18.92</td>\n",
       "      <td>26.57</td>\n",
       "      <td>0.00</td>\n",
       "      <td>0.00</td>\n",
       "      <td>0.00</td>\n",
       "      <td>50.0</td>\n",
       "      <td>2.00</td>\n",
       "      <td>69</td>\n",
       "      <td>9</td>\n",
       "      <td>cl9tg2</td>\n",
       "      <td>domestic</td>\n",
       "    </tr>\n",
       "    <tr>\n",
       "      <th>1</th>\n",
       "      <td>54005658</td>\n",
       "      <td>66.50</td>\n",
       "      <td>0.00</td>\n",
       "      <td>22.0</td>\n",
       "      <td>18.14</td>\n",
       "      <td>29.00</td>\n",
       "      <td>19.91</td>\n",
       "      <td>22.35</td>\n",
       "      <td>17.04</td>\n",
       "      <td>60.54</td>\n",
       "      <td>24.07</td>\n",
       "      <td>42.5</td>\n",
       "      <td>1.88</td>\n",
       "      <td>63</td>\n",
       "      <td>2</td>\n",
       "      <td>cl2tg8</td>\n",
       "      <td>domestic</td>\n",
       "    </tr>\n",
       "    <tr>\n",
       "      <th>2</th>\n",
       "      <td>54010438</td>\n",
       "      <td>0.00</td>\n",
       "      <td>0.00</td>\n",
       "      <td>0.0</td>\n",
       "      <td>0.00</td>\n",
       "      <td>4.13</td>\n",
       "      <td>0.00</td>\n",
       "      <td>18.86</td>\n",
       "      <td>0.00</td>\n",
       "      <td>43.75</td>\n",
       "      <td>0.00</td>\n",
       "      <td>22.5</td>\n",
       "      <td>0.00</td>\n",
       "      <td>15</td>\n",
       "      <td>3</td>\n",
       "      <td>cl3tg7</td>\n",
       "      <td>international</td>\n",
       "    </tr>\n",
       "    <tr>\n",
       "      <th>3</th>\n",
       "      <td>54011658</td>\n",
       "      <td>60.67</td>\n",
       "      <td>29.07</td>\n",
       "      <td>27.5</td>\n",
       "      <td>18.40</td>\n",
       "      <td>24.50</td>\n",
       "      <td>18.52</td>\n",
       "      <td>25.00</td>\n",
       "      <td>19.29</td>\n",
       "      <td>66.11</td>\n",
       "      <td>27.61</td>\n",
       "      <td>35.0</td>\n",
       "      <td>1.72</td>\n",
       "      <td>75</td>\n",
       "      <td>20</td>\n",
       "      <td>cl20tg2</td>\n",
       "      <td>domestic</td>\n",
       "    </tr>\n",
       "    <tr>\n",
       "      <th>4</th>\n",
       "      <td>54012789</td>\n",
       "      <td>37.33</td>\n",
       "      <td>29.01</td>\n",
       "      <td>11.0</td>\n",
       "      <td>20.00</td>\n",
       "      <td>19.50</td>\n",
       "      <td>19.10</td>\n",
       "      <td>27.75</td>\n",
       "      <td>17.82</td>\n",
       "      <td>55.61</td>\n",
       "      <td>19.21</td>\n",
       "      <td>42.5</td>\n",
       "      <td>2.00</td>\n",
       "      <td>33</td>\n",
       "      <td>19</td>\n",
       "      <td>cl19tg6</td>\n",
       "      <td>domestic</td>\n",
       "    </tr>\n",
       "  </tbody>\n",
       "</table>\n",
       "</div>"
      ],
      "text/plain": [
       "   ID number  Assessment 1  Assessment 2  Online quiz 1   Online quiz 2  \\\n",
       "0   54002768         17.21         24.19             0.0           0.00   \n",
       "1   54005658         66.50          0.00            22.0          18.14   \n",
       "2   54010438          0.00          0.00             0.0           0.00   \n",
       "3   54011658         60.67         29.07            27.5          18.40   \n",
       "4   54012789         37.33         29.01            11.0          20.00   \n",
       "\n",
       "   Online quiz 3  Online quiz 4  Group assignment 1  Group assignment 2  \\\n",
       "0          15.00          18.92               26.57                0.00   \n",
       "1          29.00          19.91               22.35               17.04   \n",
       "2           4.13           0.00               18.86                0.00   \n",
       "3          24.50          18.52               25.00               19.29   \n",
       "4          19.50          19.10               27.75               17.82   \n",
       "\n",
       "   Assessment 3  Assessment 4  Group assignment 3   Group evaluation  \\\n",
       "0          0.00          0.00                50.0               2.00   \n",
       "1         60.54         24.07                42.5               1.88   \n",
       "2         43.75          0.00                22.5               0.00   \n",
       "3         66.11         27.61                35.0               1.72   \n",
       "4         55.61         19.21                42.5               2.00   \n",
       "\n",
       "   Final exam  Class No groupname Student category  \n",
       "0          69         9    cl9tg2         domestic  \n",
       "1          63         2    cl2tg8         domestic  \n",
       "2          15         3    cl3tg7    international  \n",
       "3          75        20   cl20tg2         domestic  \n",
       "4          33        19   cl19tg6         domestic  "
      ]
     },
     "execution_count": 12,
     "metadata": {},
     "output_type": "execute_result"
    }
   ],
   "source": [
    "dataset.head()"
   ]
  },
  {
   "cell_type": "markdown",
   "metadata": {},
   "source": [
    "# Question 3 - (b) Replace NA with zeroes in every datafield:"
   ]
  },
  {
   "cell_type": "code",
   "execution_count": 13,
   "metadata": {},
   "outputs": [],
   "source": [
    "dataset=dataset.replace(np.nan, 0)"
   ]
  },
  {
   "cell_type": "markdown",
   "metadata": {},
   "source": [
    "# Question 3 - (c) Calculate the overall marks for each student, name the result Total.marks (Total_marks) and plot it as box-plots for each of two different student categories"
   ]
  },
  {
   "cell_type": "markdown",
   "metadata": {},
   "source": [
    "Calculate the total mark beased on table 1 data"
   ]
  },
  {
   "cell_type": "code",
   "execution_count": 113,
   "metadata": {},
   "outputs": [],
   "source": [
    "Total_marks = dataset['Assessment 1']/70*7 + dataset['Assessment 2']/30*3 + dataset['Assessment 3']/70*7 + dataset['Assessment 4']/30*3 + dataset['Online quiz 1 ']/30*3 + dataset['Online quiz 2']/20*2 + dataset['Online quiz 3']/30*3 + dataset['Online quiz 4']/20*2 + dataset['Group assignment 1']/30*2.4 + dataset['Group assignment 2']/20*1.6 + dataset['Group assignment 3']/50*4 + dataset[' Group evaluation']/2*2 + dataset['Final exam']/100*60"
   ]
  },
  {
   "cell_type": "code",
   "execution_count": 114,
   "metadata": {},
   "outputs": [],
   "source": [
    "Total_marks_work = pd.Series(Total_marks)"
   ]
  },
  {
   "cell_type": "markdown",
   "metadata": {},
   "source": [
    "Create a new column Total marks and get values from calculations"
   ]
  },
  {
   "cell_type": "code",
   "execution_count": 115,
   "metadata": {},
   "outputs": [],
   "source": [
    "dataset['Total marks'] = Total_marks_work.values"
   ]
  },
  {
   "cell_type": "markdown",
   "metadata": {},
   "source": [
    "Check the result"
   ]
  },
  {
   "cell_type": "code",
   "execution_count": 118,
   "metadata": {},
   "outputs": [
    {
     "data": {
      "text/html": [
       "<div>\n",
       "<style scoped>\n",
       "    .dataframe tbody tr th:only-of-type {\n",
       "        vertical-align: middle;\n",
       "    }\n",
       "\n",
       "    .dataframe tbody tr th {\n",
       "        vertical-align: top;\n",
       "    }\n",
       "\n",
       "    .dataframe thead th {\n",
       "        text-align: right;\n",
       "    }\n",
       "</style>\n",
       "<table border=\"1\" class=\"dataframe\">\n",
       "  <thead>\n",
       "    <tr style=\"text-align: right;\">\n",
       "      <th></th>\n",
       "      <th>ID number</th>\n",
       "      <th>Assessment 1</th>\n",
       "      <th>Assessment 2</th>\n",
       "      <th>Online quiz 1</th>\n",
       "      <th>Online quiz 2</th>\n",
       "      <th>Online quiz 3</th>\n",
       "      <th>Online quiz 4</th>\n",
       "      <th>Group assignment 1</th>\n",
       "      <th>Group assignment 2</th>\n",
       "      <th>Assessment 3</th>\n",
       "      <th>Assessment 4</th>\n",
       "      <th>Group assignment 3</th>\n",
       "      <th>Group evaluation</th>\n",
       "      <th>Final exam</th>\n",
       "      <th>Class No</th>\n",
       "      <th>groupname</th>\n",
       "      <th>Student category</th>\n",
       "      <th>Total marks</th>\n",
       "      <th>Grade</th>\n",
       "    </tr>\n",
       "  </thead>\n",
       "  <tbody>\n",
       "    <tr>\n",
       "      <th>0</th>\n",
       "      <td>54002768</td>\n",
       "      <td>17.21</td>\n",
       "      <td>24.19</td>\n",
       "      <td>0.0</td>\n",
       "      <td>0.00</td>\n",
       "      <td>15.00</td>\n",
       "      <td>18.92</td>\n",
       "      <td>26.57</td>\n",
       "      <td>0.00</td>\n",
       "      <td>0.00</td>\n",
       "      <td>0.00</td>\n",
       "      <td>50.0</td>\n",
       "      <td>2.00</td>\n",
       "      <td>69</td>\n",
       "      <td>9</td>\n",
       "      <td>cl9tg2</td>\n",
       "      <td>domestic</td>\n",
       "      <td>57.0576</td>\n",
       "      <td>P</td>\n",
       "    </tr>\n",
       "    <tr>\n",
       "      <th>1</th>\n",
       "      <td>54005658</td>\n",
       "      <td>66.50</td>\n",
       "      <td>0.00</td>\n",
       "      <td>22.0</td>\n",
       "      <td>18.14</td>\n",
       "      <td>29.00</td>\n",
       "      <td>19.91</td>\n",
       "      <td>22.35</td>\n",
       "      <td>17.04</td>\n",
       "      <td>60.54</td>\n",
       "      <td>24.07</td>\n",
       "      <td>42.5</td>\n",
       "      <td>1.88</td>\n",
       "      <td>63</td>\n",
       "      <td>2</td>\n",
       "      <td>cl2tg8</td>\n",
       "      <td>domestic</td>\n",
       "      <td>70.2472</td>\n",
       "      <td>D</td>\n",
       "    </tr>\n",
       "    <tr>\n",
       "      <th>2</th>\n",
       "      <td>54010438</td>\n",
       "      <td>0.00</td>\n",
       "      <td>0.00</td>\n",
       "      <td>0.0</td>\n",
       "      <td>0.00</td>\n",
       "      <td>4.13</td>\n",
       "      <td>0.00</td>\n",
       "      <td>18.86</td>\n",
       "      <td>0.00</td>\n",
       "      <td>43.75</td>\n",
       "      <td>0.00</td>\n",
       "      <td>22.5</td>\n",
       "      <td>0.00</td>\n",
       "      <td>15</td>\n",
       "      <td>3</td>\n",
       "      <td>cl3tg7</td>\n",
       "      <td>international</td>\n",
       "      <td>17.0968</td>\n",
       "      <td>F</td>\n",
       "    </tr>\n",
       "    <tr>\n",
       "      <th>3</th>\n",
       "      <td>54011658</td>\n",
       "      <td>60.67</td>\n",
       "      <td>29.07</td>\n",
       "      <td>27.5</td>\n",
       "      <td>18.40</td>\n",
       "      <td>24.50</td>\n",
       "      <td>18.52</td>\n",
       "      <td>25.00</td>\n",
       "      <td>19.29</td>\n",
       "      <td>66.11</td>\n",
       "      <td>27.61</td>\n",
       "      <td>35.0</td>\n",
       "      <td>1.72</td>\n",
       "      <td>75</td>\n",
       "      <td>20</td>\n",
       "      <td>cl20tg2</td>\n",
       "      <td>domestic</td>\n",
       "      <td>80.3012</td>\n",
       "      <td>HD</td>\n",
       "    </tr>\n",
       "    <tr>\n",
       "      <th>4</th>\n",
       "      <td>54012789</td>\n",
       "      <td>37.33</td>\n",
       "      <td>29.01</td>\n",
       "      <td>11.0</td>\n",
       "      <td>20.00</td>\n",
       "      <td>19.50</td>\n",
       "      <td>19.10</td>\n",
       "      <td>27.75</td>\n",
       "      <td>17.82</td>\n",
       "      <td>55.61</td>\n",
       "      <td>19.21</td>\n",
       "      <td>42.5</td>\n",
       "      <td>2.00</td>\n",
       "      <td>33</td>\n",
       "      <td>19</td>\n",
       "      <td>cl19tg6</td>\n",
       "      <td>domestic</td>\n",
       "      <td>49.9216</td>\n",
       "      <td>P</td>\n",
       "    </tr>\n",
       "  </tbody>\n",
       "</table>\n",
       "</div>"
      ],
      "text/plain": [
       "   ID number  Assessment 1  Assessment 2  Online quiz 1   Online quiz 2  \\\n",
       "0   54002768         17.21         24.19             0.0           0.00   \n",
       "1   54005658         66.50          0.00            22.0          18.14   \n",
       "2   54010438          0.00          0.00             0.0           0.00   \n",
       "3   54011658         60.67         29.07            27.5          18.40   \n",
       "4   54012789         37.33         29.01            11.0          20.00   \n",
       "\n",
       "   Online quiz 3  Online quiz 4  Group assignment 1  Group assignment 2  \\\n",
       "0          15.00          18.92               26.57                0.00   \n",
       "1          29.00          19.91               22.35               17.04   \n",
       "2           4.13           0.00               18.86                0.00   \n",
       "3          24.50          18.52               25.00               19.29   \n",
       "4          19.50          19.10               27.75               17.82   \n",
       "\n",
       "   Assessment 3  Assessment 4  Group assignment 3   Group evaluation  \\\n",
       "0          0.00          0.00                50.0               2.00   \n",
       "1         60.54         24.07                42.5               1.88   \n",
       "2         43.75          0.00                22.5               0.00   \n",
       "3         66.11         27.61                35.0               1.72   \n",
       "4         55.61         19.21                42.5               2.00   \n",
       "\n",
       "   Final exam  Class No groupname Student category  Total marks Grade  \n",
       "0          69         9    cl9tg2         domestic      57.0576     P  \n",
       "1          63         2    cl2tg8         domestic      70.2472     D  \n",
       "2          15         3    cl3tg7    international      17.0968     F  \n",
       "3          75        20   cl20tg2         domestic      80.3012    HD  \n",
       "4          33        19   cl19tg6         domestic      49.9216     P  "
      ]
     },
     "execution_count": 118,
     "metadata": {},
     "output_type": "execute_result"
    }
   ],
   "source": [
    "dataset.head()"
   ]
  },
  {
   "cell_type": "markdown",
   "metadata": {},
   "source": [
    "Here is a box-plot code"
   ]
  },
  {
   "cell_type": "code",
   "execution_count": 119,
   "metadata": {},
   "outputs": [
    {
     "data": {
      "text/plain": [
       "<matplotlib.axes._subplots.AxesSubplot at 0x10eb1cfd0>"
      ]
     },
     "execution_count": 119,
     "metadata": {},
     "output_type": "execute_result"
    },
    {
     "data": {
      "image/png": "[encoded data removed]",
      "text/plain": [
       "<matplotlib.figure.Figure at 0x10eb0bd68>"
      ]
     },
     "metadata": {},
     "output_type": "display_data"
    }
   ],
   "source": [
    "dataset.boxplot('Total marks', 'Student category')"
   ]
  },
  {
   "cell_type": "markdown",
   "metadata": {},
   "source": [
    "# Question 3 - (d) Calculate the mean, variance and standard deviation for every tutorial class"
   ]
  },
  {
   "cell_type": "markdown",
   "metadata": {},
   "source": [
    "Find a mean value of total marks for each class and name it meangroup:"
   ]
  },
  {
   "cell_type": "code",
   "execution_count": 120,
   "metadata": {},
   "outputs": [],
   "source": [
    "Meangroup=dataset[[\"Total marks\", \"Class No\"]].groupby('Class No').mean()"
   ]
  },
  {
   "cell_type": "code",
   "execution_count": 121,
   "metadata": {},
   "outputs": [
    {
     "data": {
      "text/html": [
       "<div>\n",
       "<style scoped>\n",
       "    .dataframe tbody tr th:only-of-type {\n",
       "        vertical-align: middle;\n",
       "    }\n",
       "\n",
       "    .dataframe tbody tr th {\n",
       "        vertical-align: top;\n",
       "    }\n",
       "\n",
       "    .dataframe thead th {\n",
       "        text-align: right;\n",
       "    }\n",
       "</style>\n",
       "<table border=\"1\" class=\"dataframe\">\n",
       "  <thead>\n",
       "    <tr style=\"text-align: right;\">\n",
       "      <th></th>\n",
       "      <th>Total marks</th>\n",
       "    </tr>\n",
       "    <tr>\n",
       "      <th>Class No</th>\n",
       "      <th></th>\n",
       "    </tr>\n",
       "  </thead>\n",
       "  <tbody>\n",
       "    <tr>\n",
       "      <th>1</th>\n",
       "      <td>59.280813</td>\n",
       "    </tr>\n",
       "    <tr>\n",
       "      <th>2</th>\n",
       "      <td>60.671069</td>\n",
       "    </tr>\n",
       "    <tr>\n",
       "      <th>3</th>\n",
       "      <td>57.610713</td>\n",
       "    </tr>\n",
       "    <tr>\n",
       "      <th>4</th>\n",
       "      <td>56.220069</td>\n",
       "    </tr>\n",
       "    <tr>\n",
       "      <th>5</th>\n",
       "      <td>57.918085</td>\n",
       "    </tr>\n",
       "  </tbody>\n",
       "</table>\n",
       "</div>"
      ],
      "text/plain": [
       "          Total marks\n",
       "Class No             \n",
       "1           59.280813\n",
       "2           60.671069\n",
       "3           57.610713\n",
       "4           56.220069\n",
       "5           57.918085"
      ]
     },
     "execution_count": 121,
     "metadata": {},
     "output_type": "execute_result"
    }
   ],
   "source": [
    "Meangroup.head()"
   ]
  },
  {
   "cell_type": "markdown",
   "metadata": {},
   "source": [
    "Find a variance and name it vargroup"
   ]
  },
  {
   "cell_type": "code",
   "execution_count": 122,
   "metadata": {},
   "outputs": [],
   "source": [
    "Vargroup=dataset[[\"Total marks\", \"Class No\"]].groupby('Class No').var()"
   ]
  },
  {
   "cell_type": "code",
   "execution_count": 123,
   "metadata": {},
   "outputs": [
    {
     "data": {
      "text/html": [
       "<div>\n",
       "<style scoped>\n",
       "    .dataframe tbody tr th:only-of-type {\n",
       "        vertical-align: middle;\n",
       "    }\n",
       "\n",
       "    .dataframe tbody tr th {\n",
       "        vertical-align: top;\n",
       "    }\n",
       "\n",
       "    .dataframe thead th {\n",
       "        text-align: right;\n",
       "    }\n",
       "</style>\n",
       "<table border=\"1\" class=\"dataframe\">\n",
       "  <thead>\n",
       "    <tr style=\"text-align: right;\">\n",
       "      <th></th>\n",
       "      <th>Total marks</th>\n",
       "    </tr>\n",
       "    <tr>\n",
       "      <th>Class No</th>\n",
       "      <th></th>\n",
       "    </tr>\n",
       "  </thead>\n",
       "  <tbody>\n",
       "    <tr>\n",
       "      <th>1</th>\n",
       "      <td>242.710561</td>\n",
       "    </tr>\n",
       "    <tr>\n",
       "      <th>2</th>\n",
       "      <td>160.151821</td>\n",
       "    </tr>\n",
       "    <tr>\n",
       "      <th>3</th>\n",
       "      <td>273.495919</td>\n",
       "    </tr>\n",
       "    <tr>\n",
       "      <th>4</th>\n",
       "      <td>319.034109</td>\n",
       "    </tr>\n",
       "    <tr>\n",
       "      <th>5</th>\n",
       "      <td>383.676678</td>\n",
       "    </tr>\n",
       "  </tbody>\n",
       "</table>\n",
       "</div>"
      ],
      "text/plain": [
       "          Total marks\n",
       "Class No             \n",
       "1          242.710561\n",
       "2          160.151821\n",
       "3          273.495919\n",
       "4          319.034109\n",
       "5          383.676678"
      ]
     },
     "execution_count": 123,
     "metadata": {},
     "output_type": "execute_result"
    }
   ],
   "source": [
    "Vargroup.head()"
   ]
  },
  {
   "cell_type": "markdown",
   "metadata": {},
   "source": [
    "Find standard deviation and name it stdgroup:"
   ]
  },
  {
   "cell_type": "code",
   "execution_count": 124,
   "metadata": {},
   "outputs": [],
   "source": [
    "StDgroup=dataset[[\"Total marks\", \"Class No\"]].groupby('Class No').std()"
   ]
  },
  {
   "cell_type": "code",
   "execution_count": 125,
   "metadata": {},
   "outputs": [
    {
     "data": {
      "text/html": [
       "<div>\n",
       "<style scoped>\n",
       "    .dataframe tbody tr th:only-of-type {\n",
       "        vertical-align: middle;\n",
       "    }\n",
       "\n",
       "    .dataframe tbody tr th {\n",
       "        vertical-align: top;\n",
       "    }\n",
       "\n",
       "    .dataframe thead th {\n",
       "        text-align: right;\n",
       "    }\n",
       "</style>\n",
       "<table border=\"1\" class=\"dataframe\">\n",
       "  <thead>\n",
       "    <tr style=\"text-align: right;\">\n",
       "      <th></th>\n",
       "      <th>Total marks</th>\n",
       "    </tr>\n",
       "    <tr>\n",
       "      <th>Class No</th>\n",
       "      <th></th>\n",
       "    </tr>\n",
       "  </thead>\n",
       "  <tbody>\n",
       "    <tr>\n",
       "      <th>1</th>\n",
       "      <td>15.579171</td>\n",
       "    </tr>\n",
       "    <tr>\n",
       "      <th>2</th>\n",
       "      <td>12.655110</td>\n",
       "    </tr>\n",
       "    <tr>\n",
       "      <th>3</th>\n",
       "      <td>16.537712</td>\n",
       "    </tr>\n",
       "    <tr>\n",
       "      <th>4</th>\n",
       "      <td>17.861526</td>\n",
       "    </tr>\n",
       "    <tr>\n",
       "      <th>5</th>\n",
       "      <td>19.587666</td>\n",
       "    </tr>\n",
       "  </tbody>\n",
       "</table>\n",
       "</div>"
      ],
      "text/plain": [
       "          Total marks\n",
       "Class No             \n",
       "1           15.579171\n",
       "2           12.655110\n",
       "3           16.537712\n",
       "4           17.861526\n",
       "5           19.587666"
      ]
     },
     "execution_count": 125,
     "metadata": {},
     "output_type": "execute_result"
    }
   ],
   "source": [
    "StDgroup.head()"
   ]
  },
  {
   "cell_type": "markdown",
   "metadata": {},
   "source": [
    "Create a table which takes data from calculated statistics column by column"
   ]
  },
  {
   "cell_type": "code",
   "execution_count": 126,
   "metadata": {},
   "outputs": [],
   "source": [
    "stat_table['Mean'] = Meangroup"
   ]
  },
  {
   "cell_type": "code",
   "execution_count": 127,
   "metadata": {},
   "outputs": [],
   "source": [
    "stat_table['Variance'] = Vargroup"
   ]
  },
  {
   "cell_type": "code",
   "execution_count": 128,
   "metadata": {},
   "outputs": [],
   "source": [
    "stat_table['Standard deviation'] = StDgroup"
   ]
  },
  {
   "cell_type": "markdown",
   "metadata": {},
   "source": [
    "Check the result:"
   ]
  },
  {
   "cell_type": "code",
   "execution_count": 129,
   "metadata": {},
   "outputs": [
    {
     "data": {
      "text/html": [
       "<div>\n",
       "<style scoped>\n",
       "    .dataframe tbody tr th:only-of-type {\n",
       "        vertical-align: middle;\n",
       "    }\n",
       "\n",
       "    .dataframe tbody tr th {\n",
       "        vertical-align: top;\n",
       "    }\n",
       "\n",
       "    .dataframe thead th {\n",
       "        text-align: right;\n",
       "    }\n",
       "</style>\n",
       "<table border=\"1\" class=\"dataframe\">\n",
       "  <thead>\n",
       "    <tr style=\"text-align: right;\">\n",
       "      <th></th>\n",
       "      <th>Mean</th>\n",
       "      <th>Variance</th>\n",
       "      <th>Standard deviation</th>\n",
       "    </tr>\n",
       "    <tr>\n",
       "      <th>Class No</th>\n",
       "      <th></th>\n",
       "      <th></th>\n",
       "      <th></th>\n",
       "    </tr>\n",
       "  </thead>\n",
       "  <tbody>\n",
       "    <tr>\n",
       "      <th>1</th>\n",
       "      <td>59.280813</td>\n",
       "      <td>242.710561</td>\n",
       "      <td>15.579171</td>\n",
       "    </tr>\n",
       "    <tr>\n",
       "      <th>2</th>\n",
       "      <td>60.671069</td>\n",
       "      <td>160.151821</td>\n",
       "      <td>12.655110</td>\n",
       "    </tr>\n",
       "    <tr>\n",
       "      <th>3</th>\n",
       "      <td>57.610713</td>\n",
       "      <td>273.495919</td>\n",
       "      <td>16.537712</td>\n",
       "    </tr>\n",
       "    <tr>\n",
       "      <th>4</th>\n",
       "      <td>56.220069</td>\n",
       "      <td>319.034109</td>\n",
       "      <td>17.861526</td>\n",
       "    </tr>\n",
       "    <tr>\n",
       "      <th>5</th>\n",
       "      <td>57.918085</td>\n",
       "      <td>383.676678</td>\n",
       "      <td>19.587666</td>\n",
       "    </tr>\n",
       "  </tbody>\n",
       "</table>\n",
       "</div>"
      ],
      "text/plain": [
       "               Mean    Variance  Standard deviation\n",
       "Class No                                           \n",
       "1         59.280813  242.710561           15.579171\n",
       "2         60.671069  160.151821           12.655110\n",
       "3         57.610713  273.495919           16.537712\n",
       "4         56.220069  319.034109           17.861526\n",
       "5         57.918085  383.676678           19.587666"
      ]
     },
     "execution_count": 129,
     "metadata": {},
     "output_type": "execute_result"
    }
   ],
   "source": [
    "stat_table.head()"
   ]
  },
  {
   "cell_type": "markdown",
   "metadata": {},
   "source": [
    "# Question 3 - (e) Based on table 2 give a Grade to each student in a Grade vector"
   ]
  },
  {
   "cell_type": "markdown",
   "metadata": {},
   "source": [
    "Create a vector with conditions from table 2 based on Total marks column:"
   ]
  },
  {
   "cell_type": "code",
   "execution_count": 130,
   "metadata": {},
   "outputs": [],
   "source": [
    "Grade=[]\n",
    "for row in dataset['Total marks']:\n",
    "    if row > 84:\n",
    "        Grade.append('HD')\n",
    "    elif row > 74:\n",
    "        Grade.append('D')\n",
    "    elif row > 64:\n",
    "        Grade.append('Cr')\n",
    "    elif row > 49:\n",
    "        Grade.append('P')\n",
    "    else:\n",
    "        Grade.append('F')"
   ]
  },
  {
   "cell_type": "markdown",
   "metadata": {},
   "source": [
    "Insert the vector Grade into the table dataset"
   ]
  },
  {
   "cell_type": "code",
   "execution_count": 131,
   "metadata": {},
   "outputs": [],
   "source": [
    "dataset['Grade'] = Grade"
   ]
  },
  {
   "cell_type": "code",
   "execution_count": 132,
   "metadata": {},
   "outputs": [
    {
     "data": {
      "text/html": [
       "<div>\n",
       "<style scoped>\n",
       "    .dataframe tbody tr th:only-of-type {\n",
       "        vertical-align: middle;\n",
       "    }\n",
       "\n",
       "    .dataframe tbody tr th {\n",
       "        vertical-align: top;\n",
       "    }\n",
       "\n",
       "    .dataframe thead th {\n",
       "        text-align: right;\n",
       "    }\n",
       "</style>\n",
       "<table border=\"1\" class=\"dataframe\">\n",
       "  <thead>\n",
       "    <tr style=\"text-align: right;\">\n",
       "      <th></th>\n",
       "      <th>ID number</th>\n",
       "      <th>Assessment 1</th>\n",
       "      <th>Assessment 2</th>\n",
       "      <th>Online quiz 1</th>\n",
       "      <th>Online quiz 2</th>\n",
       "      <th>Online quiz 3</th>\n",
       "      <th>Online quiz 4</th>\n",
       "      <th>Group assignment 1</th>\n",
       "      <th>Group assignment 2</th>\n",
       "      <th>Assessment 3</th>\n",
       "      <th>Assessment 4</th>\n",
       "      <th>Group assignment 3</th>\n",
       "      <th>Group evaluation</th>\n",
       "      <th>Final exam</th>\n",
       "      <th>Class No</th>\n",
       "      <th>groupname</th>\n",
       "      <th>Student category</th>\n",
       "      <th>Total marks</th>\n",
       "      <th>Grade</th>\n",
       "    </tr>\n",
       "  </thead>\n",
       "  <tbody>\n",
       "    <tr>\n",
       "      <th>0</th>\n",
       "      <td>54002768</td>\n",
       "      <td>17.21</td>\n",
       "      <td>24.19</td>\n",
       "      <td>0.0</td>\n",
       "      <td>0.00</td>\n",
       "      <td>15.00</td>\n",
       "      <td>18.92</td>\n",
       "      <td>26.57</td>\n",
       "      <td>0.00</td>\n",
       "      <td>0.00</td>\n",
       "      <td>0.00</td>\n",
       "      <td>50.0</td>\n",
       "      <td>2.00</td>\n",
       "      <td>69</td>\n",
       "      <td>9</td>\n",
       "      <td>cl9tg2</td>\n",
       "      <td>domestic</td>\n",
       "      <td>57.0576</td>\n",
       "      <td>P</td>\n",
       "    </tr>\n",
       "    <tr>\n",
       "      <th>1</th>\n",
       "      <td>54005658</td>\n",
       "      <td>66.50</td>\n",
       "      <td>0.00</td>\n",
       "      <td>22.0</td>\n",
       "      <td>18.14</td>\n",
       "      <td>29.00</td>\n",
       "      <td>19.91</td>\n",
       "      <td>22.35</td>\n",
       "      <td>17.04</td>\n",
       "      <td>60.54</td>\n",
       "      <td>24.07</td>\n",
       "      <td>42.5</td>\n",
       "      <td>1.88</td>\n",
       "      <td>63</td>\n",
       "      <td>2</td>\n",
       "      <td>cl2tg8</td>\n",
       "      <td>domestic</td>\n",
       "      <td>70.2472</td>\n",
       "      <td>Cr</td>\n",
       "    </tr>\n",
       "    <tr>\n",
       "      <th>2</th>\n",
       "      <td>54010438</td>\n",
       "      <td>0.00</td>\n",
       "      <td>0.00</td>\n",
       "      <td>0.0</td>\n",
       "      <td>0.00</td>\n",
       "      <td>4.13</td>\n",
       "      <td>0.00</td>\n",
       "      <td>18.86</td>\n",
       "      <td>0.00</td>\n",
       "      <td>43.75</td>\n",
       "      <td>0.00</td>\n",
       "      <td>22.5</td>\n",
       "      <td>0.00</td>\n",
       "      <td>15</td>\n",
       "      <td>3</td>\n",
       "      <td>cl3tg7</td>\n",
       "      <td>international</td>\n",
       "      <td>17.0968</td>\n",
       "      <td>F</td>\n",
       "    </tr>\n",
       "    <tr>\n",
       "      <th>3</th>\n",
       "      <td>54011658</td>\n",
       "      <td>60.67</td>\n",
       "      <td>29.07</td>\n",
       "      <td>27.5</td>\n",
       "      <td>18.40</td>\n",
       "      <td>24.50</td>\n",
       "      <td>18.52</td>\n",
       "      <td>25.00</td>\n",
       "      <td>19.29</td>\n",
       "      <td>66.11</td>\n",
       "      <td>27.61</td>\n",
       "      <td>35.0</td>\n",
       "      <td>1.72</td>\n",
       "      <td>75</td>\n",
       "      <td>20</td>\n",
       "      <td>cl20tg2</td>\n",
       "      <td>domestic</td>\n",
       "      <td>80.3012</td>\n",
       "      <td>D</td>\n",
       "    </tr>\n",
       "    <tr>\n",
       "      <th>4</th>\n",
       "      <td>54012789</td>\n",
       "      <td>37.33</td>\n",
       "      <td>29.01</td>\n",
       "      <td>11.0</td>\n",
       "      <td>20.00</td>\n",
       "      <td>19.50</td>\n",
       "      <td>19.10</td>\n",
       "      <td>27.75</td>\n",
       "      <td>17.82</td>\n",
       "      <td>55.61</td>\n",
       "      <td>19.21</td>\n",
       "      <td>42.5</td>\n",
       "      <td>2.00</td>\n",
       "      <td>33</td>\n",
       "      <td>19</td>\n",
       "      <td>cl19tg6</td>\n",
       "      <td>domestic</td>\n",
       "      <td>49.9216</td>\n",
       "      <td>P</td>\n",
       "    </tr>\n",
       "  </tbody>\n",
       "</table>\n",
       "</div>"
      ],
      "text/plain": [
       "   ID number  Assessment 1  Assessment 2  Online quiz 1   Online quiz 2  \\\n",
       "0   54002768         17.21         24.19             0.0           0.00   \n",
       "1   54005658         66.50          0.00            22.0          18.14   \n",
       "2   54010438          0.00          0.00             0.0           0.00   \n",
       "3   54011658         60.67         29.07            27.5          18.40   \n",
       "4   54012789         37.33         29.01            11.0          20.00   \n",
       "\n",
       "   Online quiz 3  Online quiz 4  Group assignment 1  Group assignment 2  \\\n",
       "0          15.00          18.92               26.57                0.00   \n",
       "1          29.00          19.91               22.35               17.04   \n",
       "2           4.13           0.00               18.86                0.00   \n",
       "3          24.50          18.52               25.00               19.29   \n",
       "4          19.50          19.10               27.75               17.82   \n",
       "\n",
       "   Assessment 3  Assessment 4  Group assignment 3   Group evaluation  \\\n",
       "0          0.00          0.00                50.0               2.00   \n",
       "1         60.54         24.07                42.5               1.88   \n",
       "2         43.75          0.00                22.5               0.00   \n",
       "3         66.11         27.61                35.0               1.72   \n",
       "4         55.61         19.21                42.5               2.00   \n",
       "\n",
       "   Final exam  Class No groupname Student category  Total marks Grade  \n",
       "0          69         9    cl9tg2         domestic      57.0576     P  \n",
       "1          63         2    cl2tg8         domestic      70.2472    Cr  \n",
       "2          15         3    cl3tg7    international      17.0968     F  \n",
       "3          75        20   cl20tg2         domestic      80.3012     D  \n",
       "4          33        19   cl19tg6         domestic      49.9216     P  "
      ]
     },
     "execution_count": 132,
     "metadata": {},
     "output_type": "execute_result"
    }
   ],
   "source": [
    "dataset.head()"
   ]
  },
  {
   "cell_type": "markdown",
   "metadata": {},
   "source": [
    "# Question 3 - (f) Perform a simple linear regression with Final.exam as the response and Assignment 1 as a predictor. Comment on results"
   ]
  },
  {
   "cell_type": "markdown",
   "metadata": {},
   "source": [
    "We create linear regression and name it model"
   ]
  },
  {
   "cell_type": "code",
   "execution_count": 139,
   "metadata": {},
   "outputs": [],
   "source": [
    "from sklearn.linear_model import LinearRegression as LR\n",
    "model = LR(fit_intercept = True)"
   ]
  },
  {
   "cell_type": "markdown",
   "metadata": {},
   "source": [
    "Define X as a predictor (Assessment 1) and Y as a response (Final exam) fit the model and print the results:"
   ]
  },
  {
   "cell_type": "code",
   "execution_count": 156,
   "metadata": {},
   "outputs": [
    {
     "name": "stdout",
     "output_type": "stream",
     "text": [
      "Coefficient  [[0.27686542]]\n",
      "Intercept [37.05858158]\n"
     ]
    }
   ],
   "source": [
    "x = dataset[['Assessment 1']]\n",
    "y = dataset[['Final exam']]\n",
    "model.fit(x, y)\n",
    "print('Coefficient ', model.coef_)\n",
    "print('Intercept', model.intercept_)"
   ]
  },
  {
   "cell_type": "markdown",
   "metadata": {},
   "source": [
    "We can plot our linear regression:"
   ]
  },
  {
   "cell_type": "code",
   "execution_count": 157,
   "metadata": {},
   "outputs": [
    {
     "data": {
      "text/plain": [
       "<seaborn.axisgrid.FacetGrid at 0x1c15d2f5f8>"
      ]
     },
     "execution_count": 157,
     "metadata": {},
     "output_type": "execute_result"
    },
    {
     "data": {
      "image/png": "[encoded data removed]",
      "text/plain": [
       "<matplotlib.figure.Figure at 0x1c15d72fd0>"
      ]
     },
     "metadata": {},
     "output_type": "display_data"
    }
   ],
   "source": [
    "sns.lmplot('Assessment 1', 'Final exam', dataset)"
   ]
  },
  {
   "cell_type": "markdown",
   "metadata": {},
   "source": [
    "Comment:\n",
    "As we can see on the graph the fitted model has a positive coefficient (0.27686542) and intercept of 37.05858158. We can see weak positive relations on the graph but it is obvious that linear regression model is not a perfect fit and that we can not use Assessment 1 results as a predictor of Final exam results."
   ]
  },
  {
   "cell_type": "markdown",
   "metadata": {},
   "source": [
    "# Question 3 - (g) Fit a multiple regression model to predict Final exam"
   ]
  },
  {
   "cell_type": "markdown",
   "metadata": {},
   "source": [
    "Create new variables for multiple regression model to be Y_m as a predictor (Assessment 1, Assessment 3, Online quiz 1, Group assignment 2) and X_m as a response (Final exam)"
   ]
  },
  {
   "cell_type": "code",
   "execution_count": 154,
   "metadata": {},
   "outputs": [],
   "source": [
    "x_m = dataset['Final exam']\n",
    "y_m = dataset[['Assessment 1', 'Assessment 3', 'Online quiz 1 ', 'Group assignment 2']]"
   ]
  },
  {
   "cell_type": "markdown",
   "metadata": {},
   "source": [
    "Add the constant, fit the model and print out the summary:"
   ]
  },
  {
   "cell_type": "code",
   "execution_count": 158,
   "metadata": {},
   "outputs": [
    {
     "data": {
      "text/html": [
       "<table class=\"simpletable\">\n",
       "<caption>OLS Regression Results</caption>\n",
       "<tr>\n",
       "  <th>Dep. Variable:</th>       <td>Final exam</td>    <th>  R-squared:         </th> <td>   0.169</td>\n",
       "</tr>\n",
       "<tr>\n",
       "  <th>Model:</th>                   <td>OLS</td>       <th>  Adj. R-squared:    </th> <td>   0.163</td>\n",
       "</tr>\n",
       "<tr>\n",
       "  <th>Method:</th>             <td>Least Squares</td>  <th>  F-statistic:       </th> <td>   29.05</td>\n",
       "</tr>\n",
       "<tr>\n",
       "  <th>Date:</th>             <td>Thu, 17 May 2018</td> <th>  Prob (F-statistic):</th> <td>5.21e-22</td>\n",
       "</tr>\n",
       "<tr>\n",
       "  <th>Time:</th>                 <td>21:49:19</td>     <th>  Log-Likelihood:    </th> <td> -2474.6</td>\n",
       "</tr>\n",
       "<tr>\n",
       "  <th>No. Observations:</th>      <td>   578</td>      <th>  AIC:               </th> <td>   4959.</td>\n",
       "</tr>\n",
       "<tr>\n",
       "  <th>Df Residuals:</th>          <td>   573</td>      <th>  BIC:               </th> <td>   4981.</td>\n",
       "</tr>\n",
       "<tr>\n",
       "  <th>Df Model:</th>              <td>     4</td>      <th>                     </th>     <td> </td>   \n",
       "</tr>\n",
       "<tr>\n",
       "  <th>Covariance Type:</th>      <td>nonrobust</td>    <th>                     </th>     <td> </td>   \n",
       "</tr>\n",
       "</table>\n",
       "<table class=\"simpletable\">\n",
       "<tr>\n",
       "           <td></td>             <th>coef</th>     <th>std err</th>      <th>t</th>      <th>P>|t|</th>  <th>[0.025</th>    <th>0.975]</th>  \n",
       "</tr>\n",
       "<tr>\n",
       "  <th>const</th>              <td>   25.8300</td> <td>    2.377</td> <td>   10.866</td> <td> 0.000</td> <td>   21.161</td> <td>   30.499</td>\n",
       "</tr>\n",
       "<tr>\n",
       "  <th>Assessment 1</th>       <td>    0.1571</td> <td>    0.039</td> <td>    4.042</td> <td> 0.000</td> <td>    0.081</td> <td>    0.233</td>\n",
       "</tr>\n",
       "<tr>\n",
       "  <th>Assessment 3</th>       <td>    0.2030</td> <td>    0.048</td> <td>    4.222</td> <td> 0.000</td> <td>    0.109</td> <td>    0.297</td>\n",
       "</tr>\n",
       "<tr>\n",
       "  <th>Online quiz 1 </th>     <td>    0.1465</td> <td>    0.102</td> <td>    1.439</td> <td> 0.151</td> <td>   -0.053</td> <td>    0.346</td>\n",
       "</tr>\n",
       "<tr>\n",
       "  <th>Group assignment 2</th> <td>    0.3466</td> <td>    0.103</td> <td>    3.377</td> <td> 0.001</td> <td>    0.145</td> <td>    0.548</td>\n",
       "</tr>\n",
       "</table>\n",
       "<table class=\"simpletable\">\n",
       "<tr>\n",
       "  <th>Omnibus:</th>       <td> 4.648</td> <th>  Durbin-Watson:     </th> <td>   1.910</td>\n",
       "</tr>\n",
       "<tr>\n",
       "  <th>Prob(Omnibus):</th> <td> 0.098</td> <th>  Jarque-Bera (JB):  </th> <td>   4.716</td>\n",
       "</tr>\n",
       "<tr>\n",
       "  <th>Skew:</th>          <td> 0.218</td> <th>  Prob(JB):          </th> <td>  0.0946</td>\n",
       "</tr>\n",
       "<tr>\n",
       "  <th>Kurtosis:</th>      <td> 2.922</td> <th>  Cond. No.          </th> <td>    242.</td>\n",
       "</tr>\n",
       "</table>"
      ],
      "text/plain": [
       "<class 'statsmodels.iolib.summary.Summary'>\n",
       "\"\"\"\n",
       "                            OLS Regression Results                            \n",
       "==============================================================================\n",
       "Dep. Variable:             Final exam   R-squared:                       0.169\n",
       "Model:                            OLS   Adj. R-squared:                  0.163\n",
       "Method:                 Least Squares   F-statistic:                     29.05\n",
       "Date:                Thu, 17 May 2018   Prob (F-statistic):           5.21e-22\n",
       "Time:                        21:49:19   Log-Likelihood:                -2474.6\n",
       "No. Observations:                 578   AIC:                             4959.\n",
       "Df Residuals:                     573   BIC:                             4981.\n",
       "Df Model:                           4                                         \n",
       "Covariance Type:            nonrobust                                         \n",
       "======================================================================================\n",
       "                         coef    std err          t      P>|t|      [0.025      0.975]\n",
       "--------------------------------------------------------------------------------------\n",
       "const                 25.8300      2.377     10.866      0.000      21.161      30.499\n",
       "Assessment 1           0.1571      0.039      4.042      0.000       0.081       0.233\n",
       "Assessment 3           0.2030      0.048      4.222      0.000       0.109       0.297\n",
       "Online quiz 1          0.1465      0.102      1.439      0.151      -0.053       0.346\n",
       "Group assignment 2     0.3466      0.103      3.377      0.001       0.145       0.548\n",
       "==============================================================================\n",
       "Omnibus:                        4.648   Durbin-Watson:                   1.910\n",
       "Prob(Omnibus):                  0.098   Jarque-Bera (JB):                4.716\n",
       "Skew:                           0.218   Prob(JB):                       0.0946\n",
       "Kurtosis:                       2.922   Cond. No.                         242.\n",
       "==============================================================================\n",
       "\n",
       "Warnings:\n",
       "[1] Standard Errors assume that the covariance matrix of the errors is correctly specified.\n",
       "\"\"\""
      ]
     },
     "execution_count": 158,
     "metadata": {},
     "output_type": "execute_result"
    }
   ],
   "source": [
    "y_c = stmod.add_constant(y_m)\n",
    "multmod = stmod.OLS(x_m,y_c).fit()\n",
    "multmod.summary()"
   ]
  },
  {
   "cell_type": "markdown",
   "metadata": {},
   "source": [
    "# Question 3 - (h)  "
   ]
  },
  {
   "cell_type": "markdown",
   "metadata": {},
   "source": [
    "If Pass or above - status complete, otherwise - incomplete. Create a factor vector Status."
   ]
  },
  {
   "cell_type": "code",
   "execution_count": 250,
   "metadata": {},
   "outputs": [],
   "source": [
    "Status = []\n",
    "\n",
    "for row in dataset['Grade']:\n",
    "    if row == 'F':\n",
    "        Status.append('incomplete')\n",
    "    else:\n",
    "        Status.append('complete')"
   ]
  },
  {
   "cell_type": "markdown",
   "metadata": {},
   "source": [
    "Insert Status vector into dataset table and name the column Status:"
   ]
  },
  {
   "cell_type": "code",
   "execution_count": 251,
   "metadata": {},
   "outputs": [],
   "source": [
    "dataset['Status'] = Status"
   ]
  },
  {
   "cell_type": "code",
   "execution_count": 252,
   "metadata": {},
   "outputs": [
    {
     "data": {
      "text/html": [
       "<div>\n",
       "<style scoped>\n",
       "    .dataframe tbody tr th:only-of-type {\n",
       "        vertical-align: middle;\n",
       "    }\n",
       "\n",
       "    .dataframe tbody tr th {\n",
       "        vertical-align: top;\n",
       "    }\n",
       "\n",
       "    .dataframe thead th {\n",
       "        text-align: right;\n",
       "    }\n",
       "</style>\n",
       "<table border=\"1\" class=\"dataframe\">\n",
       "  <thead>\n",
       "    <tr style=\"text-align: right;\">\n",
       "      <th></th>\n",
       "      <th>ID number</th>\n",
       "      <th>Assessment 1</th>\n",
       "      <th>Assessment 2</th>\n",
       "      <th>Online quiz 1</th>\n",
       "      <th>Online quiz 2</th>\n",
       "      <th>Online quiz 3</th>\n",
       "      <th>Online quiz 4</th>\n",
       "      <th>Group assignment 1</th>\n",
       "      <th>Group assignment 2</th>\n",
       "      <th>Assessment 3</th>\n",
       "      <th>Assessment 4</th>\n",
       "      <th>Group assignment 3</th>\n",
       "      <th>Group evaluation</th>\n",
       "      <th>Final exam</th>\n",
       "      <th>Class No</th>\n",
       "      <th>groupname</th>\n",
       "      <th>Student category</th>\n",
       "      <th>Total marks</th>\n",
       "      <th>Grade</th>\n",
       "      <th>Status</th>\n",
       "    </tr>\n",
       "  </thead>\n",
       "  <tbody>\n",
       "    <tr>\n",
       "      <th>0</th>\n",
       "      <td>54002768</td>\n",
       "      <td>17.21</td>\n",
       "      <td>24.19</td>\n",
       "      <td>0.0</td>\n",
       "      <td>0.00</td>\n",
       "      <td>15.00</td>\n",
       "      <td>18.92</td>\n",
       "      <td>26.57</td>\n",
       "      <td>0.00</td>\n",
       "      <td>0.00</td>\n",
       "      <td>0.00</td>\n",
       "      <td>50.0</td>\n",
       "      <td>2.00</td>\n",
       "      <td>69</td>\n",
       "      <td>9</td>\n",
       "      <td>cl9tg2</td>\n",
       "      <td>domestic</td>\n",
       "      <td>57.0576</td>\n",
       "      <td>P</td>\n",
       "      <td>complete</td>\n",
       "    </tr>\n",
       "    <tr>\n",
       "      <th>1</th>\n",
       "      <td>54005658</td>\n",
       "      <td>66.50</td>\n",
       "      <td>0.00</td>\n",
       "      <td>22.0</td>\n",
       "      <td>18.14</td>\n",
       "      <td>29.00</td>\n",
       "      <td>19.91</td>\n",
       "      <td>22.35</td>\n",
       "      <td>17.04</td>\n",
       "      <td>60.54</td>\n",
       "      <td>24.07</td>\n",
       "      <td>42.5</td>\n",
       "      <td>1.88</td>\n",
       "      <td>63</td>\n",
       "      <td>2</td>\n",
       "      <td>cl2tg8</td>\n",
       "      <td>domestic</td>\n",
       "      <td>70.2472</td>\n",
       "      <td>Cr</td>\n",
       "      <td>complete</td>\n",
       "    </tr>\n",
       "    <tr>\n",
       "      <th>2</th>\n",
       "      <td>54010438</td>\n",
       "      <td>0.00</td>\n",
       "      <td>0.00</td>\n",
       "      <td>0.0</td>\n",
       "      <td>0.00</td>\n",
       "      <td>4.13</td>\n",
       "      <td>0.00</td>\n",
       "      <td>18.86</td>\n",
       "      <td>0.00</td>\n",
       "      <td>43.75</td>\n",
       "      <td>0.00</td>\n",
       "      <td>22.5</td>\n",
       "      <td>0.00</td>\n",
       "      <td>15</td>\n",
       "      <td>3</td>\n",
       "      <td>cl3tg7</td>\n",
       "      <td>international</td>\n",
       "      <td>17.0968</td>\n",
       "      <td>F</td>\n",
       "      <td>incomplete</td>\n",
       "    </tr>\n",
       "    <tr>\n",
       "      <th>3</th>\n",
       "      <td>54011658</td>\n",
       "      <td>60.67</td>\n",
       "      <td>29.07</td>\n",
       "      <td>27.5</td>\n",
       "      <td>18.40</td>\n",
       "      <td>24.50</td>\n",
       "      <td>18.52</td>\n",
       "      <td>25.00</td>\n",
       "      <td>19.29</td>\n",
       "      <td>66.11</td>\n",
       "      <td>27.61</td>\n",
       "      <td>35.0</td>\n",
       "      <td>1.72</td>\n",
       "      <td>75</td>\n",
       "      <td>20</td>\n",
       "      <td>cl20tg2</td>\n",
       "      <td>domestic</td>\n",
       "      <td>80.3012</td>\n",
       "      <td>D</td>\n",
       "      <td>complete</td>\n",
       "    </tr>\n",
       "    <tr>\n",
       "      <th>4</th>\n",
       "      <td>54012789</td>\n",
       "      <td>37.33</td>\n",
       "      <td>29.01</td>\n",
       "      <td>11.0</td>\n",
       "      <td>20.00</td>\n",
       "      <td>19.50</td>\n",
       "      <td>19.10</td>\n",
       "      <td>27.75</td>\n",
       "      <td>17.82</td>\n",
       "      <td>55.61</td>\n",
       "      <td>19.21</td>\n",
       "      <td>42.5</td>\n",
       "      <td>2.00</td>\n",
       "      <td>33</td>\n",
       "      <td>19</td>\n",
       "      <td>cl19tg6</td>\n",
       "      <td>domestic</td>\n",
       "      <td>49.9216</td>\n",
       "      <td>P</td>\n",
       "      <td>complete</td>\n",
       "    </tr>\n",
       "  </tbody>\n",
       "</table>\n",
       "</div>"
      ],
      "text/plain": [
       "   ID number  Assessment 1  Assessment 2  Online quiz 1   Online quiz 2  \\\n",
       "0   54002768         17.21         24.19             0.0           0.00   \n",
       "1   54005658         66.50          0.00            22.0          18.14   \n",
       "2   54010438          0.00          0.00             0.0           0.00   \n",
       "3   54011658         60.67         29.07            27.5          18.40   \n",
       "4   54012789         37.33         29.01            11.0          20.00   \n",
       "\n",
       "   Online quiz 3  Online quiz 4  Group assignment 1  Group assignment 2  \\\n",
       "0          15.00          18.92               26.57                0.00   \n",
       "1          29.00          19.91               22.35               17.04   \n",
       "2           4.13           0.00               18.86                0.00   \n",
       "3          24.50          18.52               25.00               19.29   \n",
       "4          19.50          19.10               27.75               17.82   \n",
       "\n",
       "   Assessment 3  Assessment 4  Group assignment 3   Group evaluation  \\\n",
       "0          0.00          0.00                50.0               2.00   \n",
       "1         60.54         24.07                42.5               1.88   \n",
       "2         43.75          0.00                22.5               0.00   \n",
       "3         66.11         27.61                35.0               1.72   \n",
       "4         55.61         19.21                42.5               2.00   \n",
       "\n",
       "   Final exam  Class No groupname Student category  Total marks Grade  \\\n",
       "0          69         9    cl9tg2         domestic      57.0576     P   \n",
       "1          63         2    cl2tg8         domestic      70.2472    Cr   \n",
       "2          15         3    cl3tg7    international      17.0968     F   \n",
       "3          75        20   cl20tg2         domestic      80.3012     D   \n",
       "4          33        19   cl19tg6         domestic      49.9216     P   \n",
       "\n",
       "       Status  \n",
       "0    complete  \n",
       "1    complete  \n",
       "2  incomplete  \n",
       "3    complete  \n",
       "4    complete  "
      ]
     },
     "execution_count": 252,
     "metadata": {},
     "output_type": "execute_result"
    }
   ],
   "source": [
    "dataset.head()"
   ]
  },
  {
   "cell_type": "markdown",
   "metadata": {},
   "source": [
    "Greate a logistic to be first 100 students information using .loc up to 99 (as we start from 0)"
   ]
  },
  {
   "cell_type": "code",
   "execution_count": 253,
   "metadata": {},
   "outputs": [],
   "source": [
    "logistic=dataset.loc[:99]"
   ]
  },
  {
   "cell_type": "markdown",
   "metadata": {},
   "source": [
    "Define variables as logit (we use as a training data 100 students) and test (which we will test on)"
   ]
  },
  {
   "cell_type": "code",
   "execution_count": 254,
   "metadata": {},
   "outputs": [],
   "source": [
    "x_logit = logistic[['Assessment 3']]\n",
    "y_logit = logistic[['Status']]\n",
    "x_test = dataset[['Assessment 3']]\n",
    "y_test = dataset[['Status']]\n",
    "\n",
    "#Flatten y into a 1-D array\n",
    "y_logit=np.ravel(y_logit) "
   ]
  },
  {
   "cell_type": "markdown",
   "metadata": {},
   "source": [
    "Run the regression"
   ]
  },
  {
   "cell_type": "code",
   "execution_count": 255,
   "metadata": {},
   "outputs": [],
   "source": [
    "Log_Reg = LogisticRegression()\n",
    "Log_Reg = Log_Reg.fit(x_logit, y_logit)"
   ]
  },
  {
   "cell_type": "markdown",
   "metadata": {},
   "source": [
    "Find a predicted y to calculate confusion matrix"
   ]
  },
  {
   "cell_type": "code",
   "execution_count": 256,
   "metadata": {},
   "outputs": [],
   "source": [
    "y_pred = Log_Reg.predict(x_test)"
   ]
  },
  {
   "cell_type": "code",
   "execution_count": 257,
   "metadata": {},
   "outputs": [
    {
     "ename": "TypeError",
     "evalue": "'numpy.ndarray' object is not callable",
     "output_type": "error",
     "traceback": [
      "\u001b[0;31m---------------------------------------------------------------------------\u001b[0m",
      "\u001b[0;31mTypeError\u001b[0m                                 Traceback (most recent call last)",
      "\u001b[0;32m<ipython-input-257-3578d14bb652>\u001b[0m in \u001b[0;36m<module>\u001b[0;34m()\u001b[0m\n\u001b[0;32m----> 1\u001b[0;31m \u001b[0mconfusion_matrix\u001b[0m \u001b[0;34m=\u001b[0m \u001b[0mconfusion_matrix\u001b[0m\u001b[0;34m(\u001b[0m\u001b[0my_test\u001b[0m\u001b[0;34m,\u001b[0m \u001b[0my_pred\u001b[0m\u001b[0;34m)\u001b[0m\u001b[0;34m\u001b[0m\u001b[0m\n\u001b[0m\u001b[1;32m      2\u001b[0m \u001b[0mprint\u001b[0m\u001b[0;34m(\u001b[0m\u001b[0mconfusion_matrix\u001b[0m\u001b[0;34m)\u001b[0m\u001b[0;34m\u001b[0m\u001b[0m\n",
      "\u001b[0;31mTypeError\u001b[0m: 'numpy.ndarray' object is not callable"
     ]
    }
   ],
   "source": [
    "confusion_matrix = confusion_matrix(y_test, y_pred)\n",
    "print(confusion_matrix)"
   ]
  },
  {
   "cell_type": "markdown",
   "metadata": {},
   "source": [
    "Result looked like:"
   ]
  },
  {
   "cell_type": "markdown",
   "metadata": {},
   "source": [
    "417 20"
   ]
  },
  {
   "cell_type": "markdown",
   "metadata": {},
   "source": [
    "101 40"
   ]
  },
  {
   "cell_type": "markdown",
   "metadata": {},
   "source": [
    "The result is telling us that we have 417+40 correct predictions and 101+20 incorrect predictions. However I tryied to change few things and it started giving me the TypeError, which I can not find due to time constraint. Hope it will not influence my grade much, because it did work before. I guess I just overwrote variables and made it confusing."
   ]
  },
  {
   "cell_type": "code",
   "execution_count": null,
   "metadata": {},
   "outputs": [],
   "source": []
  }
 ],
 "metadata": {
  "kernelspec": {
   "display_name": "Python 3",
   "language": "python",
   "name": "python3"
  },
  "language_info": {
   "codemirror_mode": {
    "name": "ipython",
    "version": 3
   },
   "file_extension": ".py",
   "mimetype": "text/x-python",
   "name": "python",
   "nbconvert_exporter": "python",
   "pygments_lexer": "ipython3",
   "version": "3.6.4"
  }
 },
 "nbformat": 4,
 "nbformat_minor": 2
}
